{
 "cells": [
  {
   "cell_type": "markdown",
   "id": "5d76472d",
   "metadata": {},
   "source": [
    "DA PT 2023 \n",
    "Sara Ferreira da Silva"
   ]
  },
  {
   "cell_type": "code",
   "execution_count": 1,
   "id": "a2d39fe9",
   "metadata": {},
   "outputs": [],
   "source": [
    "# Importing extension to read SQL files\n",
    "import pymysql\n",
    "from sqlalchemy import create_engine\n",
    "import pandas as pd"
   ]
  },
  {
   "cell_type": "code",
   "execution_count": null,
   "id": "cb20116d",
   "metadata": {},
   "outputs": [],
   "source": [
    "# Importing the password extension and also the password protection so it is not visible\n",
    "import getpass \n",
    "password = getpass.getpass()"
   ]
  },
  {
   "cell_type": "code",
   "execution_count": null,
   "id": "8abbb119",
   "metadata": {},
   "outputs": [],
   "source": [
    "# Connecting the password to my SQL\n",
    "connection_string = 'mysql+pymysql://root:' + password + '@localhost/bank'"
   ]
  },
  {
   "cell_type": "code",
   "execution_count": null,
   "id": "b975e6b1",
   "metadata": {},
   "outputs": [],
   "source": [
    "# Running it\n",
    "engine = create_engine(connection_string)"
   ]
  },
  {
   "cell_type": "code",
   "execution_count": null,
   "id": "15acda6d",
   "metadata": {},
   "outputs": [],
   "source": [
    "# Note: My SQl is allways giving an error because I do not know its password. \n",
    "# Thus, henceforth I proceed with the lab knowing I am not able to retrieve any data.\n",
    "# Notwithstanding it is on the assumption the remaining code is correct, despite the above situation. \n",
    "\n",
    "# Obtaining the rental information for May\n",
    "rentals_may = pd.read_sql_query('SELECT * FROM sakila.rentals_may', engine)"
   ]
  },
  {
   "cell_type": "code",
   "execution_count": null,
   "id": "ac42f88a",
   "metadata": {},
   "outputs": [],
   "source": [
    "# Obtaining the rental information for June\n",
    "rentals_june = pd.read_sql_query('SELECT * FROM sakila.rentals_june', engine)"
   ]
  },
  {
   "cell_type": "code",
   "execution_count": null,
   "id": "5a434e3c",
   "metadata": {},
   "outputs": [],
   "source": [
    "# Joining both tables\n",
    "total_rentals = pd.merge(rentals_may, rentals_june on ='customer_id')"
   ]
  },
  {
   "cell_type": "code",
   "execution_count": null,
   "id": "127e9016",
   "metadata": {},
   "outputs": [],
   "source": [
    "def compare_rentals(row):\n",
    "    if row['rental_id_may'] < row['rental_id_june']:\n",
    "        return 'Borrowed more in June'\n",
    "    elif row['rental_id_may'] > row['rental_id_june']:\n",
    "        return 'Borrowed more in May'\n",
    "    else:\n",
    "        return 'Borrowed the same amount'\n",
    "\n",
    "merged_rentals['rental_comparison'] = merged_rentals.apply(compare_rentals, axis=1)\n"
   ]
  }
 ],
 "metadata": {
  "kernelspec": {
   "display_name": "Python 3 (ipykernel)",
   "language": "python",
   "name": "python3"
  },
  "language_info": {
   "codemirror_mode": {
    "name": "ipython",
    "version": 3
   },
   "file_extension": ".py",
   "mimetype": "text/x-python",
   "name": "python",
   "nbconvert_exporter": "python",
   "pygments_lexer": "ipython3",
   "version": "3.11.4"
  }
 },
 "nbformat": 4,
 "nbformat_minor": 5
}
